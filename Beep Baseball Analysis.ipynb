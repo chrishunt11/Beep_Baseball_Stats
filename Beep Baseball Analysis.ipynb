{
 "cells": [
  {
   "cell_type": "markdown",
   "id": "bc6cb3ed",
   "metadata": {
    "heading_collapsed": true
   },
   "source": [
    "## Imports/Fixing Inconsistencies"
   ]
  },
  {
   "cell_type": "code",
   "execution_count": 1,
   "id": "4b8883d8",
   "metadata": {
    "hidden": true
   },
   "outputs": [
    {
     "data": {
      "text/html": [
       "<div>\n",
       "<style scoped>\n",
       "    .dataframe tbody tr th:only-of-type {\n",
       "        vertical-align: middle;\n",
       "    }\n",
       "\n",
       "    .dataframe tbody tr th {\n",
       "        vertical-align: top;\n",
       "    }\n",
       "\n",
       "    .dataframe thead th {\n",
       "        text-align: right;\n",
       "    }\n",
       "</style>\n",
       "<table border=\"1\" class=\"dataframe\">\n",
       "  <thead>\n",
       "    <tr style=\"text-align: right;\">\n",
       "      <th></th>\n",
       "      <th></th>\n",
       "      <th>.1</th>\n",
       "      <th>.2</th>\n",
       "      <th>.3</th>\n",
       "      <th>.4</th>\n",
       "      <th>.5</th>\n",
       "      <th>.6</th>\n",
       "      <th>.7</th>\n",
       "      <th>.8</th>\n",
       "      <th>.9</th>\n",
       "    </tr>\n",
       "  </thead>\n",
       "  <tbody>\n",
       "    <tr>\n",
       "      <th>0</th>\n",
       "      <td>Team</td>\n",
       "      <td>Name</td>\n",
       "      <td>G</td>\n",
       "      <td>AB</td>\n",
       "      <td>R</td>\n",
       "      <td>K</td>\n",
       "      <td>PO</td>\n",
       "      <td>BA</td>\n",
       "      <td>K Pct</td>\n",
       "      <td>PO/G</td>\n",
       "    </tr>\n",
       "    <tr>\n",
       "      <th>1</th>\n",
       "      <td>Atlanta Chaos</td>\n",
       "      <td>Roy Cody Jr</td>\n",
       "      <td>9</td>\n",
       "      <td>45</td>\n",
       "      <td>16</td>\n",
       "      <td>11</td>\n",
       "      <td>4</td>\n",
       "      <td>0.356</td>\n",
       "      <td>0.244</td>\n",
       "      <td>0.444</td>\n",
       "    </tr>\n",
       "    <tr>\n",
       "      <th>2</th>\n",
       "      <td>Atlanta Chaos</td>\n",
       "      <td>Garrick Scott</td>\n",
       "      <td>9</td>\n",
       "      <td>44</td>\n",
       "      <td>23</td>\n",
       "      <td>9</td>\n",
       "      <td>11</td>\n",
       "      <td>0.523</td>\n",
       "      <td>0.205</td>\n",
       "      <td>1.222</td>\n",
       "    </tr>\n",
       "    <tr>\n",
       "      <th>3</th>\n",
       "      <td>Atlanta Chaos</td>\n",
       "      <td>Adrian Tamplin</td>\n",
       "      <td>9</td>\n",
       "      <td>38</td>\n",
       "      <td>12</td>\n",
       "      <td>13</td>\n",
       "      <td>6</td>\n",
       "      <td>0.316</td>\n",
       "      <td>0.342</td>\n",
       "      <td>0.667</td>\n",
       "    </tr>\n",
       "    <tr>\n",
       "      <th>4</th>\n",
       "      <td>Atlanta Chaos</td>\n",
       "      <td>Dontre Hunt</td>\n",
       "      <td>7</td>\n",
       "      <td>31</td>\n",
       "      <td>22</td>\n",
       "      <td>4</td>\n",
       "      <td>6</td>\n",
       "      <td>0.710</td>\n",
       "      <td>0.129</td>\n",
       "      <td>0.857</td>\n",
       "    </tr>\n",
       "  </tbody>\n",
       "</table>\n",
       "</div>"
      ],
      "text/plain": [
       "                              .1      .2      .3      .4      .5      .6  \\\n",
       "0           Team            Name       G      AB       R       K      PO   \n",
       "1  Atlanta Chaos     Roy Cody Jr       9      45      16      11       4   \n",
       "2  Atlanta Chaos   Garrick Scott       9      44      23       9      11   \n",
       "3  Atlanta Chaos  Adrian Tamplin       9      38      12      13       6   \n",
       "4  Atlanta Chaos     Dontre Hunt       7      31      22       4       6   \n",
       "\n",
       "       .7      .8      .9  \n",
       "0      BA   K Pct    PO/G  \n",
       "1   0.356   0.244   0.444  \n",
       "2   0.523   0.205   1.222  \n",
       "3   0.316   0.342   0.667  \n",
       "4   0.710   0.129   0.857  "
      ]
     },
     "execution_count": 1,
     "metadata": {},
     "output_type": "execute_result"
    }
   ],
   "source": [
    "import pandas as pd\n",
    "\n",
    "df = pd.read_csv('2023 WS Stats Values.csv')\n",
    "df.head()"
   ]
  },
  {
   "cell_type": "code",
   "execution_count": 2,
   "id": "2be03dd6",
   "metadata": {
    "hidden": true,
    "scrolled": true
   },
   "outputs": [
    {
     "data": {
      "text/html": [
       "<div>\n",
       "<style scoped>\n",
       "    .dataframe tbody tr th:only-of-type {\n",
       "        vertical-align: middle;\n",
       "    }\n",
       "\n",
       "    .dataframe tbody tr th {\n",
       "        vertical-align: top;\n",
       "    }\n",
       "\n",
       "    .dataframe thead th {\n",
       "        text-align: right;\n",
       "    }\n",
       "</style>\n",
       "<table border=\"1\" class=\"dataframe\">\n",
       "  <thead>\n",
       "    <tr style=\"text-align: right;\">\n",
       "      <th></th>\n",
       "      <th>Team</th>\n",
       "      <th>Name</th>\n",
       "      <th>G</th>\n",
       "      <th>AB</th>\n",
       "      <th>R</th>\n",
       "      <th>K</th>\n",
       "      <th>PO</th>\n",
       "      <th>BA</th>\n",
       "      <th>K Pct</th>\n",
       "      <th>PO/G</th>\n",
       "    </tr>\n",
       "  </thead>\n",
       "  <tbody>\n",
       "    <tr>\n",
       "      <th>1</th>\n",
       "      <td>Atlanta Chaos</td>\n",
       "      <td>Roy Cody Jr</td>\n",
       "      <td>9</td>\n",
       "      <td>45</td>\n",
       "      <td>16</td>\n",
       "      <td>11</td>\n",
       "      <td>4</td>\n",
       "      <td>0.356</td>\n",
       "      <td>0.244</td>\n",
       "      <td>0.444</td>\n",
       "    </tr>\n",
       "    <tr>\n",
       "      <th>2</th>\n",
       "      <td>Atlanta Chaos</td>\n",
       "      <td>Garrick Scott</td>\n",
       "      <td>9</td>\n",
       "      <td>44</td>\n",
       "      <td>23</td>\n",
       "      <td>9</td>\n",
       "      <td>11</td>\n",
       "      <td>0.523</td>\n",
       "      <td>0.205</td>\n",
       "      <td>1.222</td>\n",
       "    </tr>\n",
       "    <tr>\n",
       "      <th>3</th>\n",
       "      <td>Atlanta Chaos</td>\n",
       "      <td>Adrian Tamplin</td>\n",
       "      <td>9</td>\n",
       "      <td>38</td>\n",
       "      <td>12</td>\n",
       "      <td>13</td>\n",
       "      <td>6</td>\n",
       "      <td>0.316</td>\n",
       "      <td>0.342</td>\n",
       "      <td>0.667</td>\n",
       "    </tr>\n",
       "    <tr>\n",
       "      <th>4</th>\n",
       "      <td>Atlanta Chaos</td>\n",
       "      <td>Dontre Hunt</td>\n",
       "      <td>7</td>\n",
       "      <td>31</td>\n",
       "      <td>22</td>\n",
       "      <td>4</td>\n",
       "      <td>6</td>\n",
       "      <td>0.710</td>\n",
       "      <td>0.129</td>\n",
       "      <td>0.857</td>\n",
       "    </tr>\n",
       "    <tr>\n",
       "      <th>5</th>\n",
       "      <td>Atlanta Chaos</td>\n",
       "      <td>Darnell Jacobs</td>\n",
       "      <td>8</td>\n",
       "      <td>30</td>\n",
       "      <td>10</td>\n",
       "      <td>10</td>\n",
       "      <td>0</td>\n",
       "      <td>0.333</td>\n",
       "      <td>0.333</td>\n",
       "      <td>0.000</td>\n",
       "    </tr>\n",
       "  </tbody>\n",
       "</table>\n",
       "</div>"
      ],
      "text/plain": [
       "0           Team            Name  G  AB   R   K  PO     BA  K Pct   PO/G\n",
       "1  Atlanta Chaos     Roy Cody Jr  9  45  16  11   4  0.356  0.244  0.444\n",
       "2  Atlanta Chaos   Garrick Scott  9  44  23   9  11  0.523  0.205  1.222\n",
       "3  Atlanta Chaos  Adrian Tamplin  9  38  12  13   6  0.316  0.342  0.667\n",
       "4  Atlanta Chaos     Dontre Hunt  7  31  22   4   6  0.710  0.129  0.857\n",
       "5  Atlanta Chaos  Darnell Jacobs  8  30  10  10   0  0.333  0.333  0.000"
      ]
     },
     "execution_count": 2,
     "metadata": {},
     "output_type": "execute_result"
    }
   ],
   "source": [
    "# Making the first row the column names\n",
    "df.columns = df.iloc[0]\n",
    "df = df.drop(0)\n",
    "df.head()"
   ]
  },
  {
   "cell_type": "code",
   "execution_count": 3,
   "id": "5d3510ed",
   "metadata": {
    "hidden": true
   },
   "outputs": [],
   "source": [
    "# Convert columns to numeric where applicable\n",
    "numeric_cols = ['G', 'AB', 'R', 'K', 'PO','K Pct', 'PO/G', 'BA']\n",
    "df[numeric_cols] = df[numeric_cols].apply(pd.to_numeric, errors='coerce')"
   ]
  },
  {
   "cell_type": "code",
   "execution_count": 4,
   "id": "c6b6c9d9",
   "metadata": {
    "hidden": true,
    "scrolled": true
   },
   "outputs": [
    {
     "name": "stdout",
     "output_type": "stream",
     "text": [
      "<class 'pandas.core.frame.DataFrame'>\n",
      "RangeIndex: 222 entries, 1 to 222\n",
      "Data columns (total 10 columns):\n",
      " #   Column  Non-Null Count  Dtype  \n",
      "---  ------  --------------  -----  \n",
      " 0   Team    222 non-null    object \n",
      " 1   Name    222 non-null    object \n",
      " 2   G       222 non-null    int64  \n",
      " 3   AB      222 non-null    int64  \n",
      " 4   R       222 non-null    int64  \n",
      " 5   K       222 non-null    int64  \n",
      " 6   PO      222 non-null    int64  \n",
      " 7   BA      222 non-null    float64\n",
      " 8   K Pct   222 non-null    float64\n",
      " 9   PO/G    222 non-null    float64\n",
      "dtypes: float64(3), int64(5), object(2)\n",
      "memory usage: 17.5+ KB\n"
     ]
    }
   ],
   "source": [
    "df.info()"
   ]
  },
  {
   "cell_type": "code",
   "execution_count": 5,
   "id": "05dd02fc",
   "metadata": {
    "hidden": true
   },
   "outputs": [
    {
     "data": {
      "text/plain": [
       "0"
      ]
     },
     "execution_count": 5,
     "metadata": {},
     "output_type": "execute_result"
    }
   ],
   "source": [
    "df.duplicated().sum()"
   ]
  },
  {
   "cell_type": "code",
   "execution_count": 6,
   "id": "e723bc3f",
   "metadata": {
    "hidden": true
   },
   "outputs": [
    {
     "data": {
      "text/plain": [
       "0\n",
       "Team     0\n",
       "Name     0\n",
       "G        0\n",
       "AB       0\n",
       "R        0\n",
       "K        0\n",
       "PO       0\n",
       "BA       0\n",
       "K Pct    0\n",
       "PO/G     0\n",
       "dtype: int64"
      ]
     },
     "execution_count": 6,
     "metadata": {},
     "output_type": "execute_result"
    }
   ],
   "source": [
    "df.isna().sum()"
   ]
  },
  {
   "cell_type": "code",
   "execution_count": 7,
   "id": "b1519837",
   "metadata": {
    "hidden": true
   },
   "outputs": [],
   "source": [
    "# Creating a Runs per Game column\n",
    "df['R/G'] = (df['R'] / df['G']).round(3)"
   ]
  },
  {
   "cell_type": "code",
   "execution_count": 8,
   "id": "3367ddd8",
   "metadata": {
    "hidden": true
   },
   "outputs": [],
   "source": [
    "df['SO/G'] = (df['K'] / df['G']).round(3)"
   ]
  },
  {
   "cell_type": "code",
   "execution_count": 9,
   "id": "ad10df13",
   "metadata": {
    "hidden": true
   },
   "outputs": [
    {
     "data": {
      "text/html": [
       "<div>\n",
       "<style scoped>\n",
       "    .dataframe tbody tr th:only-of-type {\n",
       "        vertical-align: middle;\n",
       "    }\n",
       "\n",
       "    .dataframe tbody tr th {\n",
       "        vertical-align: top;\n",
       "    }\n",
       "\n",
       "    .dataframe thead th {\n",
       "        text-align: right;\n",
       "    }\n",
       "</style>\n",
       "<table border=\"1\" class=\"dataframe\">\n",
       "  <thead>\n",
       "    <tr style=\"text-align: right;\">\n",
       "      <th></th>\n",
       "      <th>Team</th>\n",
       "      <th>Name</th>\n",
       "      <th>G</th>\n",
       "      <th>AB</th>\n",
       "      <th>R</th>\n",
       "      <th>K</th>\n",
       "      <th>PO</th>\n",
       "      <th>BA</th>\n",
       "      <th>K Pct</th>\n",
       "      <th>PO/G</th>\n",
       "      <th>R/G</th>\n",
       "      <th>SO/G</th>\n",
       "    </tr>\n",
       "  </thead>\n",
       "  <tbody>\n",
       "    <tr>\n",
       "      <th>113</th>\n",
       "      <td>Indy Edge</td>\n",
       "      <td>Eric Rodriguez</td>\n",
       "      <td>7</td>\n",
       "      <td>40</td>\n",
       "      <td>26</td>\n",
       "      <td>4</td>\n",
       "      <td>45</td>\n",
       "      <td>0.650</td>\n",
       "      <td>0.100</td>\n",
       "      <td>6.429</td>\n",
       "      <td>3.714</td>\n",
       "      <td>0.571</td>\n",
       "    </tr>\n",
       "    <tr>\n",
       "      <th>188</th>\n",
       "      <td>San Antonio Jets</td>\n",
       "      <td>Zach Arambula</td>\n",
       "      <td>9</td>\n",
       "      <td>43</td>\n",
       "      <td>29</td>\n",
       "      <td>6</td>\n",
       "      <td>44</td>\n",
       "      <td>0.674</td>\n",
       "      <td>0.140</td>\n",
       "      <td>4.889</td>\n",
       "      <td>3.222</td>\n",
       "      <td>0.667</td>\n",
       "    </tr>\n",
       "    <tr>\n",
       "      <th>178</th>\n",
       "      <td>Philly Fire</td>\n",
       "      <td>Casey Krouse</td>\n",
       "      <td>8</td>\n",
       "      <td>36</td>\n",
       "      <td>28</td>\n",
       "      <td>5</td>\n",
       "      <td>35</td>\n",
       "      <td>0.778</td>\n",
       "      <td>0.139</td>\n",
       "      <td>4.375</td>\n",
       "      <td>3.500</td>\n",
       "      <td>0.625</td>\n",
       "    </tr>\n",
       "    <tr>\n",
       "      <th>155</th>\n",
       "      <td>New Jersey Titans</td>\n",
       "      <td>Randy George</td>\n",
       "      <td>7</td>\n",
       "      <td>35</td>\n",
       "      <td>13</td>\n",
       "      <td>11</td>\n",
       "      <td>30</td>\n",
       "      <td>0.371</td>\n",
       "      <td>0.314</td>\n",
       "      <td>4.286</td>\n",
       "      <td>1.857</td>\n",
       "      <td>1.571</td>\n",
       "    </tr>\n",
       "    <tr>\n",
       "      <th>86</th>\n",
       "      <td>Gateway Archers</td>\n",
       "      <td>Ethan Johnston</td>\n",
       "      <td>8</td>\n",
       "      <td>44</td>\n",
       "      <td>28</td>\n",
       "      <td>7</td>\n",
       "      <td>33</td>\n",
       "      <td>0.636</td>\n",
       "      <td>0.159</td>\n",
       "      <td>4.125</td>\n",
       "      <td>3.500</td>\n",
       "      <td>0.875</td>\n",
       "    </tr>\n",
       "    <tr>\n",
       "      <th>...</th>\n",
       "      <td>...</td>\n",
       "      <td>...</td>\n",
       "      <td>...</td>\n",
       "      <td>...</td>\n",
       "      <td>...</td>\n",
       "      <td>...</td>\n",
       "      <td>...</td>\n",
       "      <td>...</td>\n",
       "      <td>...</td>\n",
       "      <td>...</td>\n",
       "      <td>...</td>\n",
       "      <td>...</td>\n",
       "    </tr>\n",
       "    <tr>\n",
       "      <th>83</th>\n",
       "      <td>Cleveland Scrappers</td>\n",
       "      <td>Marion Parker</td>\n",
       "      <td>2</td>\n",
       "      <td>2</td>\n",
       "      <td>1</td>\n",
       "      <td>1</td>\n",
       "      <td>0</td>\n",
       "      <td>0.500</td>\n",
       "      <td>0.500</td>\n",
       "      <td>0.000</td>\n",
       "      <td>0.500</td>\n",
       "      <td>0.500</td>\n",
       "    </tr>\n",
       "    <tr>\n",
       "      <th>91</th>\n",
       "      <td>Gateway Archers</td>\n",
       "      <td>Henry Allen</td>\n",
       "      <td>6</td>\n",
       "      <td>14</td>\n",
       "      <td>7</td>\n",
       "      <td>6</td>\n",
       "      <td>0</td>\n",
       "      <td>0.500</td>\n",
       "      <td>0.429</td>\n",
       "      <td>0.000</td>\n",
       "      <td>1.167</td>\n",
       "      <td>1.000</td>\n",
       "    </tr>\n",
       "    <tr>\n",
       "      <th>161</th>\n",
       "      <td>New Jersey Titans</td>\n",
       "      <td>Walli Salahuddin</td>\n",
       "      <td>6</td>\n",
       "      <td>1</td>\n",
       "      <td>0</td>\n",
       "      <td>1</td>\n",
       "      <td>0</td>\n",
       "      <td>0.000</td>\n",
       "      <td>1.000</td>\n",
       "      <td>0.000</td>\n",
       "      <td>0.000</td>\n",
       "      <td>0.167</td>\n",
       "    </tr>\n",
       "    <tr>\n",
       "      <th>160</th>\n",
       "      <td>New Jersey Titans</td>\n",
       "      <td>Rich Koppenjan</td>\n",
       "      <td>2</td>\n",
       "      <td>2</td>\n",
       "      <td>0</td>\n",
       "      <td>1</td>\n",
       "      <td>0</td>\n",
       "      <td>0.000</td>\n",
       "      <td>0.500</td>\n",
       "      <td>0.000</td>\n",
       "      <td>0.000</td>\n",
       "      <td>0.500</td>\n",
       "    </tr>\n",
       "    <tr>\n",
       "      <th>222</th>\n",
       "      <td>Tyler Tigers</td>\n",
       "      <td>Larry Reed</td>\n",
       "      <td>1</td>\n",
       "      <td>0</td>\n",
       "      <td>0</td>\n",
       "      <td>0</td>\n",
       "      <td>0</td>\n",
       "      <td>0.000</td>\n",
       "      <td>0.000</td>\n",
       "      <td>0.000</td>\n",
       "      <td>0.000</td>\n",
       "      <td>0.000</td>\n",
       "    </tr>\n",
       "  </tbody>\n",
       "</table>\n",
       "<p>222 rows × 12 columns</p>\n",
       "</div>"
      ],
      "text/plain": [
       "0                   Team              Name  G  AB   R   K  PO     BA  K Pct  \\\n",
       "113            Indy Edge    Eric Rodriguez  7  40  26   4  45  0.650  0.100   \n",
       "188     San Antonio Jets     Zach Arambula  9  43  29   6  44  0.674  0.140   \n",
       "178          Philly Fire      Casey Krouse  8  36  28   5  35  0.778  0.139   \n",
       "155    New Jersey Titans      Randy George  7  35  13  11  30  0.371  0.314   \n",
       "86       Gateway Archers    Ethan Johnston  8  44  28   7  33  0.636  0.159   \n",
       "..                   ...               ... ..  ..  ..  ..  ..    ...    ...   \n",
       "83   Cleveland Scrappers     Marion Parker  2   2   1   1   0  0.500  0.500   \n",
       "91       Gateway Archers       Henry Allen  6  14   7   6   0  0.500  0.429   \n",
       "161    New Jersey Titans  Walli Salahuddin  6   1   0   1   0  0.000  1.000   \n",
       "160    New Jersey Titans    Rich Koppenjan  2   2   0   1   0  0.000  0.500   \n",
       "222         Tyler Tigers        Larry Reed  1   0   0   0   0  0.000  0.000   \n",
       "\n",
       "0     PO/G    R/G   SO/G  \n",
       "113  6.429  3.714  0.571  \n",
       "188  4.889  3.222  0.667  \n",
       "178  4.375  3.500  0.625  \n",
       "155  4.286  1.857  1.571  \n",
       "86   4.125  3.500  0.875  \n",
       "..     ...    ...    ...  \n",
       "83   0.000  0.500  0.500  \n",
       "91   0.000  1.167  1.000  \n",
       "161  0.000  0.000  0.167  \n",
       "160  0.000  0.000  0.500  \n",
       "222  0.000  0.000  0.000  \n",
       "\n",
       "[222 rows x 12 columns]"
      ]
     },
     "execution_count": 9,
     "metadata": {},
     "output_type": "execute_result"
    }
   ],
   "source": [
    "df.sort_values(by='PO/G', ascending=False)"
   ]
  },
  {
   "cell_type": "markdown",
   "id": "3e68cbd0",
   "metadata": {},
   "source": [
    "## Offensive Player of the Year"
   ]
  },
  {
   "cell_type": "code",
   "execution_count": 10,
   "id": "8ccc0e12",
   "metadata": {},
   "outputs": [],
   "source": [
    "def calculate_offensive_score(stats):\n",
    "    # Define weights for each offensive metric\n",
    "    runs_weight = 0.25\n",
    "    strikeouts_weight = 0.3\n",
    "    batting_average_weight = 0.3\n",
    "    strikeout_percentage_weight = 0.3\n",
    "    runs_per_game_weight = 0.5\n",
    "    strikeouts_per_game_weight = 0.5\n",
    "    \n",
    "    # Calculate offensive score\n",
    "    offensive_score = (stats['R'] * runs_weight) - \\\n",
    "                      (stats['K'] * strikeouts_weight) + \\\n",
    "                      (stats['BA'] * batting_average_weight) - \\\n",
    "                      (stats['K Pct'] * strikeout_percentage_weight) + \\\n",
    "                      (stats['R/G'] * runs_per_game_weight) - \\\n",
    "                      (stats['SO/G'] * strikeouts_per_game_weight)\n",
    "\n",
    "    \n",
    "    \n",
    "    return offensive_score\n",
    "\n",
    "df['Offensive_Score'] = df.apply(calculate_offensive_score, axis=1)"
   ]
  },
  {
   "cell_type": "markdown",
   "id": "dd9b6283",
   "metadata": {},
   "source": [
    "### First Team Offense"
   ]
  },
  {
   "cell_type": "code",
   "execution_count": 11,
   "id": "ed30b15e",
   "metadata": {
    "scrolled": false
   },
   "outputs": [
    {
     "data": {
      "text/html": [
       "<div>\n",
       "<style scoped>\n",
       "    .dataframe tbody tr th:only-of-type {\n",
       "        vertical-align: middle;\n",
       "    }\n",
       "\n",
       "    .dataframe tbody tr th {\n",
       "        vertical-align: top;\n",
       "    }\n",
       "\n",
       "    .dataframe thead th {\n",
       "        text-align: right;\n",
       "    }\n",
       "</style>\n",
       "<table border=\"1\" class=\"dataframe\">\n",
       "  <thead>\n",
       "    <tr style=\"text-align: right;\">\n",
       "      <th></th>\n",
       "      <th>Team</th>\n",
       "      <th>Name</th>\n",
       "      <th>Offensive_Score</th>\n",
       "    </tr>\n",
       "  </thead>\n",
       "  <tbody>\n",
       "    <tr>\n",
       "      <th>1</th>\n",
       "      <td>Bayou City Heat</td>\n",
       "      <td>Tanner Gers</td>\n",
       "      <td>11.6805</td>\n",
       "    </tr>\n",
       "    <tr>\n",
       "      <th>2</th>\n",
       "      <td>Indy Thunder</td>\n",
       "      <td>Cody Jefferes</td>\n",
       "      <td>11.1901</td>\n",
       "    </tr>\n",
       "    <tr>\n",
       "      <th>3</th>\n",
       "      <td>San Antonio Jets</td>\n",
       "      <td>David Smith</td>\n",
       "      <td>10.7680</td>\n",
       "    </tr>\n",
       "    <tr>\n",
       "      <th>4</th>\n",
       "      <td>Indy Thunder</td>\n",
       "      <td>Gerald Dycus</td>\n",
       "      <td>10.4641</td>\n",
       "    </tr>\n",
       "    <tr>\n",
       "      <th>5</th>\n",
       "      <td>Indy Thunder</td>\n",
       "      <td>Zach Buhler</td>\n",
       "      <td>10.4186</td>\n",
       "    </tr>\n",
       "    <tr>\n",
       "      <th>...</th>\n",
       "      <td>...</td>\n",
       "      <td>...</td>\n",
       "      <td>...</td>\n",
       "    </tr>\n",
       "    <tr>\n",
       "      <th>96</th>\n",
       "      <td>Cleveland Scrappers</td>\n",
       "      <td>Dan Kelly</td>\n",
       "      <td>0.9400</td>\n",
       "    </tr>\n",
       "    <tr>\n",
       "      <th>97</th>\n",
       "      <td>Philly Fire</td>\n",
       "      <td>Dakota Hogwood</td>\n",
       "      <td>0.8666</td>\n",
       "    </tr>\n",
       "    <tr>\n",
       "      <th>98</th>\n",
       "      <td>Bayou City Heat</td>\n",
       "      <td>Richie Flores</td>\n",
       "      <td>0.8420</td>\n",
       "    </tr>\n",
       "    <tr>\n",
       "      <th>99</th>\n",
       "      <td>Oklahoma Lookouts</td>\n",
       "      <td>David Gwin</td>\n",
       "      <td>0.8176</td>\n",
       "    </tr>\n",
       "    <tr>\n",
       "      <th>100</th>\n",
       "      <td>Minnesota Millers</td>\n",
       "      <td>Kyle Kuhlman</td>\n",
       "      <td>0.7208</td>\n",
       "    </tr>\n",
       "  </tbody>\n",
       "</table>\n",
       "<p>100 rows × 3 columns</p>\n",
       "</div>"
      ],
      "text/plain": [
       "0                   Team            Name  Offensive_Score\n",
       "1        Bayou City Heat     Tanner Gers          11.6805\n",
       "2           Indy Thunder   Cody Jefferes          11.1901\n",
       "3       San Antonio Jets     David Smith          10.7680\n",
       "4           Indy Thunder    Gerald Dycus          10.4641\n",
       "5           Indy Thunder     Zach Buhler          10.4186\n",
       "..                   ...             ...              ...\n",
       "96   Cleveland Scrappers       Dan Kelly           0.9400\n",
       "97           Philly Fire  Dakota Hogwood           0.8666\n",
       "98       Bayou City Heat   Richie Flores           0.8420\n",
       "99     Oklahoma Lookouts      David Gwin           0.8176\n",
       "100    Minnesota Millers    Kyle Kuhlman           0.7208\n",
       "\n",
       "[100 rows x 3 columns]"
      ]
     },
     "execution_count": 11,
     "metadata": {},
     "output_type": "execute_result"
    }
   ],
   "source": [
    "all_team_offense = df[['Team', 'Name', 'Offensive_Score']].sort_values(by='Offensive_Score', ascending=False).head()\n",
    "all_team_offense.reset_index(drop=True, inplace=True)\n",
    "all_team_offense.index+=1\n",
    "all_team_offense"
   ]
  },
  {
   "cell_type": "code",
   "execution_count": 12,
   "id": "00fe2cca",
   "metadata": {},
   "outputs": [],
   "source": [
    "off_team = all_team_offense.value_counts('Team')"
   ]
  },
  {
   "cell_type": "markdown",
   "id": "3619ff00",
   "metadata": {},
   "source": [
    "## Defensive Player of the Year"
   ]
  },
  {
   "cell_type": "code",
   "execution_count": 13,
   "id": "82e0abbd",
   "metadata": {},
   "outputs": [],
   "source": [
    "def calculate_defensive_score(stats):\n",
    "    # Define weights for each offensive metric\n",
    "    putouts_weight = 0.3\n",
    "    putouts_per_game_weight = 0.3\n",
    "    \n",
    "    # Calculate defensive score\n",
    "    defensive_score = (stats['PO'] * putouts_weight) + \\\n",
    "                      (stats['PO/G'] * putouts_per_game_weight) / (stats['G'] * .25)\n",
    "    \n",
    "    return defensive_score\n",
    "\n",
    "df['Defensive_Score'] = df.apply(calculate_defensive_score, axis=1)"
   ]
  },
  {
   "cell_type": "markdown",
   "id": "6c021630",
   "metadata": {},
   "source": [
    "### First Team Defense"
   ]
  },
  {
   "cell_type": "code",
   "execution_count": 14,
   "id": "cc8fab9f",
   "metadata": {
    "scrolled": true
   },
   "outputs": [
    {
     "data": {
      "text/html": [
       "<div>\n",
       "<style scoped>\n",
       "    .dataframe tbody tr th:only-of-type {\n",
       "        vertical-align: middle;\n",
       "    }\n",
       "\n",
       "    .dataframe tbody tr th {\n",
       "        vertical-align: top;\n",
       "    }\n",
       "\n",
       "    .dataframe thead th {\n",
       "        text-align: right;\n",
       "    }\n",
       "</style>\n",
       "<table border=\"1\" class=\"dataframe\">\n",
       "  <thead>\n",
       "    <tr style=\"text-align: right;\">\n",
       "      <th></th>\n",
       "      <th>Team</th>\n",
       "      <th>Name</th>\n",
       "      <th>Defensive_Score</th>\n",
       "    </tr>\n",
       "  </thead>\n",
       "  <tbody>\n",
       "    <tr>\n",
       "      <th>1</th>\n",
       "      <td>Indy Edge</td>\n",
       "      <td>Eric Rodriguez</td>\n",
       "      <td>14.602114</td>\n",
       "    </tr>\n",
       "    <tr>\n",
       "      <th>2</th>\n",
       "      <td>San Antonio Jets</td>\n",
       "      <td>Zach Arambula</td>\n",
       "      <td>13.851867</td>\n",
       "    </tr>\n",
       "    <tr>\n",
       "      <th>3</th>\n",
       "      <td>Philly Fire</td>\n",
       "      <td>Casey Krouse</td>\n",
       "      <td>11.156250</td>\n",
       "    </tr>\n",
       "    <tr>\n",
       "      <th>4</th>\n",
       "      <td>Gateway Archers</td>\n",
       "      <td>Ethan Johnston</td>\n",
       "      <td>10.518750</td>\n",
       "    </tr>\n",
       "    <tr>\n",
       "      <th>5</th>\n",
       "      <td>Cleveland Scrappers</td>\n",
       "      <td>Stanley Griffin</td>\n",
       "      <td>9.881250</td>\n",
       "    </tr>\n",
       "    <tr>\n",
       "      <th>...</th>\n",
       "      <td>...</td>\n",
       "      <td>...</td>\n",
       "      <td>...</td>\n",
       "    </tr>\n",
       "    <tr>\n",
       "      <th>96</th>\n",
       "      <td>Houston Hurricanes</td>\n",
       "      <td>Roy Hutchins</td>\n",
       "      <td>1.000000</td>\n",
       "    </tr>\n",
       "    <tr>\n",
       "      <th>97</th>\n",
       "      <td>SGV Panthers</td>\n",
       "      <td>Jairo Rodriguez</td>\n",
       "      <td>1.000000</td>\n",
       "    </tr>\n",
       "    <tr>\n",
       "      <th>98</th>\n",
       "      <td>Austin Blackhawks</td>\n",
       "      <td>Daveon Perez-R</td>\n",
       "      <td>0.973543</td>\n",
       "    </tr>\n",
       "    <tr>\n",
       "      <th>99</th>\n",
       "      <td>Tyler Tigers</td>\n",
       "      <td>Alex Barrera</td>\n",
       "      <td>0.973543</td>\n",
       "    </tr>\n",
       "    <tr>\n",
       "      <th>100</th>\n",
       "      <td>Houston Hurricanes</td>\n",
       "      <td>John Marquez</td>\n",
       "      <td>0.973543</td>\n",
       "    </tr>\n",
       "  </tbody>\n",
       "</table>\n",
       "<p>100 rows × 3 columns</p>\n",
       "</div>"
      ],
      "text/plain": [
       "0                   Team             Name  Defensive_Score\n",
       "1              Indy Edge   Eric Rodriguez        14.602114\n",
       "2       San Antonio Jets    Zach Arambula        13.851867\n",
       "3            Philly Fire     Casey Krouse        11.156250\n",
       "4        Gateway Archers   Ethan Johnston        10.518750\n",
       "5    Cleveland Scrappers  Stanley Griffin         9.881250\n",
       "..                   ...              ...              ...\n",
       "96    Houston Hurricanes     Roy Hutchins         1.000000\n",
       "97          SGV Panthers  Jairo Rodriguez         1.000000\n",
       "98     Austin Blackhawks   Daveon Perez-R         0.973543\n",
       "99          Tyler Tigers     Alex Barrera         0.973543\n",
       "100   Houston Hurricanes     John Marquez         0.973543\n",
       "\n",
       "[100 rows x 3 columns]"
      ]
     },
     "execution_count": 14,
     "metadata": {},
     "output_type": "execute_result"
    }
   ],
   "source": [
    "all_team_defense = df[['Team', 'Name', 'Defensive_Score']].sort_values(by='Defensive_Score', ascending=False).head(100)\n",
    "all_team_defense.reset_index(drop=True, inplace=True)\n",
    "all_team_defense.index+=1\n",
    "all_team_defense"
   ]
  },
  {
   "cell_type": "code",
   "execution_count": 15,
   "id": "b0c51e5e",
   "metadata": {},
   "outputs": [],
   "source": [
    "def_team = all_team_defense.value_counts('Team')"
   ]
  },
  {
   "cell_type": "code",
   "execution_count": 16,
   "id": "5e9997f2",
   "metadata": {},
   "outputs": [
    {
     "data": {
      "text/plain": [
       "Team\n",
       "Indy Thunder           19.0\n",
       "Boston Renegades       15.0\n",
       "Oklahoma Lookouts      14.0\n",
       "Bayou City Heat        13.0\n",
       "Chicago Comets         13.0\n",
       "Atlanta Chaos          12.0\n",
       "Austin Blackhawks      12.0\n",
       "San Antonio Jets       12.0\n",
       "Cleveland Scrappers    11.0\n",
       "Indy Edge              11.0\n",
       "Philly Fire            11.0\n",
       "Tyler Tigers           11.0\n",
       "Gateway Archers        10.0\n",
       "Houston Hurricanes     10.0\n",
       "New Jersey Titans       9.0\n",
       "Minnesota Millers       6.0\n",
       "Braille Bandits         NaN\n",
       "SGV Panthers            NaN\n",
       "St Louis Sirens         NaN\n",
       "dtype: float64"
      ]
     },
     "execution_count": 16,
     "metadata": {},
     "output_type": "execute_result"
    }
   ],
   "source": [
    "total_team = off_team + def_team\n",
    "total_team.sort_values(ascending=False, inplace=True)\n",
    "total_team"
   ]
  },
  {
   "cell_type": "markdown",
   "id": "7306c0c9",
   "metadata": {},
   "source": [
    "## MVP "
   ]
  },
  {
   "cell_type": "code",
   "execution_count": 17,
   "id": "5737ffe8",
   "metadata": {},
   "outputs": [],
   "source": [
    "def calculate_mvp_score(offensive_score, defensive_score):\n",
    "    # Define weights for each metric\n",
    "    offensive_weight = 0.45  # Adjusted weight for offensive metrics\n",
    "    defensive_weight = 0.55\n",
    "        \n",
    "    # Calculate overall MVP score\n",
    "    mvp_score = (offensive_score * offensive_weight) + (defensive_score * defensive_weight)\n",
    "    \n",
    "    return mvp_score\n",
    "\n",
    "# Calculate offensive score\n",
    "df['Offensive_Score'] = df.apply(calculate_offensive_score, axis=1)\n",
    "\n",
    "# Calculate defensive score\n",
    "df['Defensive_Score'] = df.apply(calculate_defensive_score, axis=1)\n",
    "\n",
    "# Calculate MVP score\n",
    "df['MVP_Score'] = calculate_mvp_score(df['Offensive_Score'], df['Defensive_Score'])\n",
    "\n",
    "# Sort DataFrame by MVP score in descending order\n",
    "df = df.sort_values(by='MVP_Score', ascending=False)\n",
    "\n",
    "# Filter out players with less than 8 at-bats and sort by MVP score\n",
    "df = df[df['AB'] > 8].sort_values(by='MVP_Score', ascending=False)"
   ]
  },
  {
   "cell_type": "code",
   "execution_count": 18,
   "id": "0140aaa9",
   "metadata": {
    "scrolled": true
   },
   "outputs": [
    {
     "data": {
      "text/html": [
       "<div>\n",
       "<style scoped>\n",
       "    .dataframe tbody tr th:only-of-type {\n",
       "        vertical-align: middle;\n",
       "    }\n",
       "\n",
       "    .dataframe tbody tr th {\n",
       "        vertical-align: top;\n",
       "    }\n",
       "\n",
       "    .dataframe thead th {\n",
       "        text-align: right;\n",
       "    }\n",
       "</style>\n",
       "<table border=\"1\" class=\"dataframe\">\n",
       "  <thead>\n",
       "    <tr style=\"text-align: right;\">\n",
       "      <th></th>\n",
       "      <th>Team</th>\n",
       "      <th>Name</th>\n",
       "      <th>MVP_Score</th>\n",
       "    </tr>\n",
       "  </thead>\n",
       "  <tbody>\n",
       "    <tr>\n",
       "      <th>1</th>\n",
       "      <td>Indy Edge</td>\n",
       "      <td>Eric Rodriguez</td>\n",
       "      <td>11.197588</td>\n",
       "    </tr>\n",
       "    <tr>\n",
       "      <th>2</th>\n",
       "      <td>San Antonio Jets</td>\n",
       "      <td>Zach Arambula</td>\n",
       "      <td>10.717992</td>\n",
       "    </tr>\n",
       "    <tr>\n",
       "      <th>3</th>\n",
       "      <td>Philly Fire</td>\n",
       "      <td>Casey Krouse</td>\n",
       "      <td>9.344078</td>\n",
       "    </tr>\n",
       "    <tr>\n",
       "      <th>4</th>\n",
       "      <td>Bayou City Heat</td>\n",
       "      <td>Mike Coughlin</td>\n",
       "      <td>8.745965</td>\n",
       "    </tr>\n",
       "    <tr>\n",
       "      <th>5</th>\n",
       "      <td>Gateway Archers</td>\n",
       "      <td>Ethan Johnston</td>\n",
       "      <td>8.645333</td>\n",
       "    </tr>\n",
       "  </tbody>\n",
       "</table>\n",
       "</div>"
      ],
      "text/plain": [
       "0              Team            Name  MVP_Score\n",
       "1         Indy Edge  Eric Rodriguez  11.197588\n",
       "2  San Antonio Jets   Zach Arambula  10.717992\n",
       "3       Philly Fire    Casey Krouse   9.344078\n",
       "4   Bayou City Heat   Mike Coughlin   8.745965\n",
       "5   Gateway Archers  Ethan Johnston   8.645333"
      ]
     },
     "execution_count": 18,
     "metadata": {},
     "output_type": "execute_result"
    }
   ],
   "source": [
    "mvp = df[['Team', 'Name', 'MVP_Score']].sort_values(by='MVP_Score', ascending=False).head()\n",
    "mvp.reset_index(drop=True, inplace=True)\n",
    "mvp.index+=1\n",
    "mvp"
   ]
  },
  {
   "cell_type": "markdown",
   "id": "74d2d907",
   "metadata": {},
   "source": [
    "## Analysis"
   ]
  },
  {
   "cell_type": "code",
   "execution_count": 19,
   "id": "47890494",
   "metadata": {},
   "outputs": [
    {
     "data": {
      "image/png": "[encoded data removed]",
      "text/plain": [
       "<Figure size 1000x600 with 1 Axes>"
      ]
     },
     "metadata": {},
     "output_type": "display_data"
    }
   ],
   "source": [
    "import matplotlib.pyplot as plt\n",
    "\n",
    "average_games_played = df['G'].mean()\n",
    "\n",
    "# Plotting\n",
    "plt.figure(figsize=(10, 6))\n",
    "plt.hist(df['G'], bins=7, color='skyblue', edgecolor='black', alpha=0.7)\n",
    "plt.axvline(average_games_played, color='red', linestyle='--', label=f'Average: {average_games_played:.2f}')\n",
    "plt.xlabel('Games Played')\n",
    "plt.ylabel('Frequency')\n",
    "plt.title('Distribution of Games Played')\n",
    "plt.legend()\n",
    "plt.grid(axis='y', linestyle='--', alpha=0.7)\n",
    "plt.show()"
   ]
  },
  {
   "cell_type": "code",
   "execution_count": 20,
   "id": "2e040599",
   "metadata": {},
   "outputs": [
    {
     "data": {
      "image/png": "[encoded data removed]",
      "text/plain": [
       "<Figure size 1000x600 with 1 Axes>"
      ]
     },
     "metadata": {},
     "output_type": "display_data"
    }
   ],
   "source": [
    "import numpy as np\n",
    "\n",
    "# Calculate quartiles\n",
    "q1 = np.percentile(df['BA'], 25)\n",
    "q2 = np.percentile(df['BA'], 50)  # Median\n",
    "q3 = np.percentile(df['BA'], 75)\n",
    "\n",
    "# Plotting\n",
    "plt.figure(figsize=(10, 6))\n",
    "plt.hist(df['BA'], bins=15, color='skyblue', edgecolor='black', alpha=0.7)\n",
    "plt.axvline(q1, color='green', linestyle='--', label=f'Q1: {q1:.2f}')\n",
    "plt.axvline(q2, color='purple', linestyle='--', label=f'Median: {q2:.2f}')\n",
    "plt.axvline(q3, color='orange', linestyle='--', label=f'Q3: {q3:.2f}')\n",
    "plt.xlabel('Batting Average')\n",
    "plt.ylabel('Frequency')\n",
    "plt.title('Distribution of Batting Avg')\n",
    "plt.legend()\n",
    "plt.grid(axis='y', linestyle='--', alpha=0.7)\n",
    "plt.show()"
   ]
  },
  {
   "cell_type": "code",
   "execution_count": 21,
   "id": "9ab94e46",
   "metadata": {},
   "outputs": [
    {
     "data": {
      "image/png": "[encoded data removed]",
      "text/plain": [
       "<Figure size 1000x600 with 1 Axes>"
      ]
     },
     "metadata": {},
     "output_type": "display_data"
    }
   ],
   "source": [
    "# Calculate quartiles for runs\n",
    "q1_runs = np.percentile(df['R'], 25)\n",
    "q2_runs = np.percentile(df['R'], 50)  # Median\n",
    "q3_runs = np.percentile(df['R'], 75)\n",
    "\n",
    "# Plotting for Runs\n",
    "plt.figure(figsize=(10, 6))\n",
    "plt.hist(df['R'], bins=20, color='skyblue', edgecolor='black', alpha=0.7)\n",
    "#plt.axvline(casey, color='blue', linestyle='--', label=f'Casey Krouse: {casey:.2f}')\n",
    "plt.axvline(q1_runs, color='green', linestyle='--', label=f'Q1: {q1_runs:.2f}')\n",
    "plt.axvline(q2_runs, color='purple', linestyle='--', label=f'Median: {q2_runs:.2f}')\n",
    "plt.axvline(q3_runs, color='orange', linestyle='--', label=f'Q3: {q3_runs:.2f}')\n",
    "plt.xlabel('Runs')\n",
    "plt.ylabel('Frequency')\n",
    "plt.title('Distribution of Runs')\n",
    "plt.legend()\n",
    "plt.grid(axis='y', linestyle='--', alpha=0.7)\n",
    "plt.show()"
   ]
  },
  {
   "cell_type": "code",
   "execution_count": 22,
   "id": "3cac81c7",
   "metadata": {},
   "outputs": [
    {
     "data": {
      "image/png": "[encoded data removed]",
      "text/plain": [
       "<Figure size 1000x600 with 1 Axes>"
      ]
     },
     "metadata": {},
     "output_type": "display_data"
    }
   ],
   "source": [
    "# Calculate quartiles for putouts\n",
    "q1_putouts = np.percentile(df['PO'], 25)\n",
    "q2_putouts = np.percentile(df['PO'], 50)  # Median\n",
    "q3_putouts = np.percentile(df['PO'], 75)\n",
    "\n",
    "# Plotting for Putouts\n",
    "plt.figure(figsize=(10, 6))\n",
    "plt.hist(df['PO'], bins='auto', color='skyblue', edgecolor='black', alpha=0.7)\n",
    "plt.axvline(q1_putouts, color='green', linestyle='--', label=f'Q1: {q1_putouts:.2f}')\n",
    "plt.axvline(q2_putouts, color='purple', linestyle='--', label=f'Median: {q2_putouts:.2f}')\n",
    "plt.axvline(q3_putouts, color='orange', linestyle='--', label=f'Q3: {q3_putouts:.2f}')\n",
    "plt.xlabel('Putouts')\n",
    "plt.ylabel('Frequency')\n",
    "plt.title('Distribution of Putouts')\n",
    "plt.legend()\n",
    "plt.grid(axis='y', linestyle='--', alpha=0.7)\n",
    "plt.show()"
   ]
  },
  {
   "cell_type": "code",
   "execution_count": 23,
   "id": "ca8907c2",
   "metadata": {},
   "outputs": [
    {
     "data": {
      "image/png": "[encoded data removed]",
      "text/plain": [
       "<Figure size 1000x600 with 1 Axes>"
      ]
     },
     "metadata": {},
     "output_type": "display_data"
    }
   ],
   "source": [
    "# Calculate quartiles for R/G\n",
    "q1_rpg = np.percentile(df['R/G'], 25)\n",
    "q2_rpg = np.percentile(df['R/G'], 50)  # Median\n",
    "q3_rpg = np.percentile(df['R/G'], 75)\n",
    "\n",
    "# Plotting for R/G\n",
    "plt.figure(figsize=(10, 6))\n",
    "plt.hist(df['R/G'], bins=20, color='skyblue', edgecolor='black', alpha=0.7)\n",
    "plt.axvline(q1_rpg, color='green', linestyle='--', label=f'Q1: {q1_rpg:.2f}')\n",
    "plt.axvline(q2_rpg, color='purple', linestyle='--', label=f'Median: {q2_rpg:.2f}')\n",
    "plt.axvline(q3_rpg, color='orange', linestyle='--', label=f'Q3: {q3_rpg:.2f}')\n",
    "plt.xlabel('Runs per Game')\n",
    "plt.ylabel('Frequency')\n",
    "plt.title('Distribution of Runs per Game')\n",
    "plt.legend()\n",
    "plt.grid(axis='y', linestyle='--', alpha=0.7)\n",
    "plt.show()"
   ]
  },
  {
   "cell_type": "code",
   "execution_count": null,
   "id": "1276e1a1",
   "metadata": {},
   "outputs": [],
   "source": []
  }
 ],
 "metadata": {
  "kernelspec": {
   "display_name": "Python (dojo-env)",
   "language": "python",
   "name": "dojo-env"
  },
  "language_info": {
   "codemirror_mode": {
    "name": "ipython",
    "version": 3
   },
   "file_extension": ".py",
   "mimetype": "text/x-python",
   "name": "python",
   "nbconvert_exporter": "python",
   "pygments_lexer": "ipython3",
   "version": "3.9.15"
  },
  "toc": {
   "base_numbering": 1,
   "nav_menu": {},
   "number_sections": false,
   "sideBar": true,
   "skip_h1_title": false,
   "title_cell": "Table of Contents",
   "title_sidebar": "Contents",
   "toc_cell": false,
   "toc_position": {},
   "toc_section_display": true,
   "toc_window_display": false
  }
 },
 "nbformat": 4,
 "nbformat_minor": 5
}
